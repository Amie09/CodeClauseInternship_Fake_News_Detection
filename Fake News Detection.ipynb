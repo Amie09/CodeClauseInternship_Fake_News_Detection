{
 "cells": [
  {
   "cell_type": "markdown",
   "id": "3ff6c489-8113-4942-9734-abc90ed959b5",
   "metadata": {},
   "source": [
    "# **Fake News Detection**"
   ]
  },
  {
   "cell_type": "code",
   "execution_count": 1,
   "id": "a474a4da-b558-480f-b3d6-fbbf4bf7bb50",
   "metadata": {},
   "outputs": [],
   "source": [
    "import numpy as np\n",
    "import pandas as pd\n",
    "import matplotlib.pyplot as plt\n",
    "%matplotlib inline\n",
    "\n",
    "import warnings\n",
    "warnings.filterwarnings('ignore')"
   ]
  },
  {
   "cell_type": "markdown",
   "id": "1b6af740-f866-4ee3-a5c4-ef92cf397d48",
   "metadata": {},
   "source": [
    "## **Data Preparation**"
   ]
  },
  {
   "cell_type": "markdown",
   "id": "3ac4f8b1-d5da-49cc-b31a-95f4abd1f6e8",
   "metadata": {},
   "source": [
    "### Import Dataset"
   ]
  },
  {
   "cell_type": "code",
   "execution_count": 2,
   "id": "a2d2b131-2af5-4bdf-8d19-020bb4225426",
   "metadata": {},
   "outputs": [],
   "source": [
    "df =pd.read_csv(r'C:\\Documents\\Datasets\\news.csv')"
   ]
  },
  {
   "cell_type": "markdown",
   "id": "dcc90e22-d5e2-42f4-b02b-2c7e54da1907",
   "metadata": {},
   "source": [
    "### First rows"
   ]
  },
  {
   "cell_type": "code",
   "execution_count": 3,
   "id": "8ae7bf9f-b9e3-4f42-9f5c-07499a043a71",
   "metadata": {},
   "outputs": [
    {
     "data": {
      "text/html": [
       "<div>\n",
       "<style scoped>\n",
       "    .dataframe tbody tr th:only-of-type {\n",
       "        vertical-align: middle;\n",
       "    }\n",
       "\n",
       "    .dataframe tbody tr th {\n",
       "        vertical-align: top;\n",
       "    }\n",
       "\n",
       "    .dataframe thead th {\n",
       "        text-align: right;\n",
       "    }\n",
       "</style>\n",
       "<table border=\"1\" class=\"dataframe\">\n",
       "  <thead>\n",
       "    <tr style=\"text-align: right;\">\n",
       "      <th></th>\n",
       "      <th>Unnamed: 0</th>\n",
       "      <th>title</th>\n",
       "      <th>text</th>\n",
       "      <th>label</th>\n",
       "    </tr>\n",
       "  </thead>\n",
       "  <tbody>\n",
       "    <tr>\n",
       "      <th>0</th>\n",
       "      <td>8476</td>\n",
       "      <td>You Can Smell Hillary’s Fear</td>\n",
       "      <td>Daniel Greenfield, a Shillman Journalism Fello...</td>\n",
       "      <td>FAKE</td>\n",
       "    </tr>\n",
       "    <tr>\n",
       "      <th>1</th>\n",
       "      <td>10294</td>\n",
       "      <td>Watch The Exact Moment Paul Ryan Committed Pol...</td>\n",
       "      <td>Google Pinterest Digg Linkedin Reddit Stumbleu...</td>\n",
       "      <td>FAKE</td>\n",
       "    </tr>\n",
       "    <tr>\n",
       "      <th>2</th>\n",
       "      <td>3608</td>\n",
       "      <td>Kerry to go to Paris in gesture of sympathy</td>\n",
       "      <td>U.S. Secretary of State John F. Kerry said Mon...</td>\n",
       "      <td>REAL</td>\n",
       "    </tr>\n",
       "    <tr>\n",
       "      <th>3</th>\n",
       "      <td>10142</td>\n",
       "      <td>Bernie supporters on Twitter erupt in anger ag...</td>\n",
       "      <td>— Kaydee King (@KaydeeKing) November 9, 2016 T...</td>\n",
       "      <td>FAKE</td>\n",
       "    </tr>\n",
       "    <tr>\n",
       "      <th>4</th>\n",
       "      <td>875</td>\n",
       "      <td>The Battle of New York: Why This Primary Matters</td>\n",
       "      <td>It's primary day in New York and front-runners...</td>\n",
       "      <td>REAL</td>\n",
       "    </tr>\n",
       "  </tbody>\n",
       "</table>\n",
       "</div>"
      ],
      "text/plain": [
       "   Unnamed: 0                                              title  \\\n",
       "0        8476                       You Can Smell Hillary’s Fear   \n",
       "1       10294  Watch The Exact Moment Paul Ryan Committed Pol...   \n",
       "2        3608        Kerry to go to Paris in gesture of sympathy   \n",
       "3       10142  Bernie supporters on Twitter erupt in anger ag...   \n",
       "4         875   The Battle of New York: Why This Primary Matters   \n",
       "\n",
       "                                                text label  \n",
       "0  Daniel Greenfield, a Shillman Journalism Fello...  FAKE  \n",
       "1  Google Pinterest Digg Linkedin Reddit Stumbleu...  FAKE  \n",
       "2  U.S. Secretary of State John F. Kerry said Mon...  REAL  \n",
       "3  — Kaydee King (@KaydeeKing) November 9, 2016 T...  FAKE  \n",
       "4  It's primary day in New York and front-runners...  REAL  "
      ]
     },
     "execution_count": 3,
     "metadata": {},
     "output_type": "execute_result"
    }
   ],
   "source": [
    "df.head()"
   ]
  },
  {
   "cell_type": "markdown",
   "id": "7483da5f-3913-4799-8233-f03ba9f21c4e",
   "metadata": {},
   "source": [
    "### Last rows"
   ]
  },
  {
   "cell_type": "code",
   "execution_count": 4,
   "id": "c796b37e-b645-49b5-8afb-04d060ecae3b",
   "metadata": {},
   "outputs": [
    {
     "data": {
      "text/html": [
       "<div>\n",
       "<style scoped>\n",
       "    .dataframe tbody tr th:only-of-type {\n",
       "        vertical-align: middle;\n",
       "    }\n",
       "\n",
       "    .dataframe tbody tr th {\n",
       "        vertical-align: top;\n",
       "    }\n",
       "\n",
       "    .dataframe thead th {\n",
       "        text-align: right;\n",
       "    }\n",
       "</style>\n",
       "<table border=\"1\" class=\"dataframe\">\n",
       "  <thead>\n",
       "    <tr style=\"text-align: right;\">\n",
       "      <th></th>\n",
       "      <th>Unnamed: 0</th>\n",
       "      <th>title</th>\n",
       "      <th>text</th>\n",
       "      <th>label</th>\n",
       "    </tr>\n",
       "  </thead>\n",
       "  <tbody>\n",
       "    <tr>\n",
       "      <th>6330</th>\n",
       "      <td>4490</td>\n",
       "      <td>State Department says it can't find emails fro...</td>\n",
       "      <td>The State Department told the Republican Natio...</td>\n",
       "      <td>REAL</td>\n",
       "    </tr>\n",
       "    <tr>\n",
       "      <th>6331</th>\n",
       "      <td>8062</td>\n",
       "      <td>The ‘P’ in PBS Should Stand for ‘Plutocratic’ ...</td>\n",
       "      <td>The ‘P’ in PBS Should Stand for ‘Plutocratic’ ...</td>\n",
       "      <td>FAKE</td>\n",
       "    </tr>\n",
       "    <tr>\n",
       "      <th>6332</th>\n",
       "      <td>8622</td>\n",
       "      <td>Anti-Trump Protesters Are Tools of the Oligarc...</td>\n",
       "      <td>Anti-Trump Protesters Are Tools of the Oligar...</td>\n",
       "      <td>FAKE</td>\n",
       "    </tr>\n",
       "    <tr>\n",
       "      <th>6333</th>\n",
       "      <td>4021</td>\n",
       "      <td>In Ethiopia, Obama seeks progress on peace, se...</td>\n",
       "      <td>ADDIS ABABA, Ethiopia —President Obama convene...</td>\n",
       "      <td>REAL</td>\n",
       "    </tr>\n",
       "    <tr>\n",
       "      <th>6334</th>\n",
       "      <td>4330</td>\n",
       "      <td>Jeb Bush Is Suddenly Attacking Trump. Here's W...</td>\n",
       "      <td>Jeb Bush Is Suddenly Attacking Trump. Here's W...</td>\n",
       "      <td>REAL</td>\n",
       "    </tr>\n",
       "  </tbody>\n",
       "</table>\n",
       "</div>"
      ],
      "text/plain": [
       "      Unnamed: 0                                              title  \\\n",
       "6330        4490  State Department says it can't find emails fro...   \n",
       "6331        8062  The ‘P’ in PBS Should Stand for ‘Plutocratic’ ...   \n",
       "6332        8622  Anti-Trump Protesters Are Tools of the Oligarc...   \n",
       "6333        4021  In Ethiopia, Obama seeks progress on peace, se...   \n",
       "6334        4330  Jeb Bush Is Suddenly Attacking Trump. Here's W...   \n",
       "\n",
       "                                                   text label  \n",
       "6330  The State Department told the Republican Natio...  REAL  \n",
       "6331  The ‘P’ in PBS Should Stand for ‘Plutocratic’ ...  FAKE  \n",
       "6332   Anti-Trump Protesters Are Tools of the Oligar...  FAKE  \n",
       "6333  ADDIS ABABA, Ethiopia —President Obama convene...  REAL  \n",
       "6334  Jeb Bush Is Suddenly Attacking Trump. Here's W...  REAL  "
      ]
     },
     "execution_count": 4,
     "metadata": {},
     "output_type": "execute_result"
    }
   ],
   "source": [
    "df.tail()"
   ]
  },
  {
   "cell_type": "markdown",
   "id": "203ebd8b-a353-44a2-b425-0c91a4d36395",
   "metadata": {},
   "source": [
    "### Shape of df"
   ]
  },
  {
   "cell_type": "code",
   "execution_count": 5,
   "id": "17971f1d-794b-47b6-b175-f1f48593af83",
   "metadata": {},
   "outputs": [
    {
     "data": {
      "text/plain": [
       "(6335, 4)"
      ]
     },
     "execution_count": 5,
     "metadata": {},
     "output_type": "execute_result"
    }
   ],
   "source": [
    "df.shape"
   ]
  },
  {
   "cell_type": "markdown",
   "id": "0c18fb52-0c81-48ff-81ae-dfe6c61feaa0",
   "metadata": {},
   "source": [
    "### Check for duplicate values"
   ]
  },
  {
   "cell_type": "code",
   "execution_count": 6,
   "id": "f90d402c-ae0f-4ddd-bbfd-eb35d499576d",
   "metadata": {},
   "outputs": [
    {
     "data": {
      "text/plain": [
       "0"
      ]
     },
     "execution_count": 6,
     "metadata": {},
     "output_type": "execute_result"
    }
   ],
   "source": [
    "df.duplicated().sum()"
   ]
  },
  {
   "cell_type": "markdown",
   "id": "90dbe008-20e1-4833-8be1-48a3b9faf1dd",
   "metadata": {},
   "source": [
    "### Check for null values()"
   ]
  },
  {
   "cell_type": "code",
   "execution_count": 7,
   "id": "05dec438-5c6a-4553-b0d3-8b6a0a109650",
   "metadata": {},
   "outputs": [
    {
     "data": {
      "text/plain": [
       "Unnamed: 0    False\n",
       "title         False\n",
       "text          False\n",
       "label         False\n",
       "dtype: bool"
      ]
     },
     "execution_count": 7,
     "metadata": {},
     "output_type": "execute_result"
    }
   ],
   "source": [
    "df.isnull().any()"
   ]
  },
  {
   "cell_type": "markdown",
   "id": "c183cfc5-fb03-4b39-bece-bfd9810f9e99",
   "metadata": {},
   "source": [
    "### Removing the unnamed column"
   ]
  },
  {
   "cell_type": "code",
   "execution_count": 8,
   "id": "62e1d393-ba1e-4a89-8d80-2dc7995ad890",
   "metadata": {},
   "outputs": [
    {
     "data": {
      "text/html": [
       "<div>\n",
       "<style scoped>\n",
       "    .dataframe tbody tr th:only-of-type {\n",
       "        vertical-align: middle;\n",
       "    }\n",
       "\n",
       "    .dataframe tbody tr th {\n",
       "        vertical-align: top;\n",
       "    }\n",
       "\n",
       "    .dataframe thead th {\n",
       "        text-align: right;\n",
       "    }\n",
       "</style>\n",
       "<table border=\"1\" class=\"dataframe\">\n",
       "  <thead>\n",
       "    <tr style=\"text-align: right;\">\n",
       "      <th></th>\n",
       "      <th>title</th>\n",
       "      <th>text</th>\n",
       "      <th>label</th>\n",
       "    </tr>\n",
       "  </thead>\n",
       "  <tbody>\n",
       "    <tr>\n",
       "      <th>4401</th>\n",
       "      <td>Clinton renews vow to 'fast track' immigration...</td>\n",
       "      <td>Hillary Clinton announced perhaps her most amb...</td>\n",
       "      <td>REAL</td>\n",
       "    </tr>\n",
       "    <tr>\n",
       "      <th>2290</th>\n",
       "      <td>Is It Safe To Use Expired Prescription Drugs?</td>\n",
       "      <td>Backdoor Survival October 29, 2016 \\nThe topic...</td>\n",
       "      <td>FAKE</td>\n",
       "    </tr>\n",
       "    <tr>\n",
       "      <th>3083</th>\n",
       "      <td>How Predictive Are Iowa And New Hampshire?</td>\n",
       "      <td>How Predictive Are Iowa And New Hampshire?\\n\\n...</td>\n",
       "      <td>REAL</td>\n",
       "    </tr>\n",
       "    <tr>\n",
       "      <th>3244</th>\n",
       "      <td>Trump: I'll Only Lose With 'Cheating,' Asks Su...</td>\n",
       "      <td>Trump: I'll Only Lose With 'Cheating,' Asks Su...</td>\n",
       "      <td>REAL</td>\n",
       "    </tr>\n",
       "    <tr>\n",
       "      <th>1616</th>\n",
       "      <td>Protesting Donald Trump’s Election, Not Wars, ...</td>\n",
       "      <td>Protests and vigils have erupted in major citi...</td>\n",
       "      <td>REAL</td>\n",
       "    </tr>\n",
       "    <tr>\n",
       "      <th>2750</th>\n",
       "      <td>Climate change crusade goes local</td>\n",
       "      <td>While US leaders remain bogged down in debate ...</td>\n",
       "      <td>REAL</td>\n",
       "    </tr>\n",
       "    <tr>\n",
       "      <th>2499</th>\n",
       "      <td>Opponents divided on how — or whether — to res...</td>\n",
       "      <td>When Friday began, there were 14 states where ...</td>\n",
       "      <td>REAL</td>\n",
       "    </tr>\n",
       "    <tr>\n",
       "      <th>5829</th>\n",
       "      <td>AP fakes the news</td>\n",
       "      <td>*Sent:* Tuesday, August 11, 2015 6:00 PM *To:*...</td>\n",
       "      <td>FAKE</td>\n",
       "    </tr>\n",
       "    <tr>\n",
       "      <th>2629</th>\n",
       "      <td>A Tear in the Fabric of America’s Political Th...</td>\n",
       "      <td>[Graphic: Clinton vs Trump by DonkeyHotey .] P...</td>\n",
       "      <td>FAKE</td>\n",
       "    </tr>\n",
       "    <tr>\n",
       "      <th>3578</th>\n",
       "      <td>Ted Cruz launches bid; Some pundits paint him ...</td>\n",
       "      <td>Before he got to repealing ObamaCare, before h...</td>\n",
       "      <td>REAL</td>\n",
       "    </tr>\n",
       "    <tr>\n",
       "      <th>5240</th>\n",
       "      <td>Chelsea Clinton Hired Eric Braverman As CEO Of...</td>\n",
       "      <td>https://twitter.com/eric_braverman 7. On Doug ...</td>\n",
       "      <td>FAKE</td>\n",
       "    </tr>\n",
       "    <tr>\n",
       "      <th>5953</th>\n",
       "      <td>Unbrexit! Parliament must vote on triggering a...</td>\n",
       "      <td>Next Prev Swipe left/right Unbrexit! Parliamen...</td>\n",
       "      <td>FAKE</td>\n",
       "    </tr>\n",
       "    <tr>\n",
       "      <th>3693</th>\n",
       "      <td>Re: OUCH! Hillary Clinton’s self-unaware lectu...</td>\n",
       "      <td>— Tim Carney (@TPCarney) October 27, 2016 \\nUh...</td>\n",
       "      <td>FAKE</td>\n",
       "    </tr>\n",
       "    <tr>\n",
       "      <th>2715</th>\n",
       "      <td>Refusal to Acknowledge Uniqueness of Holocaust...</td>\n",
       "      <td>Diversity Macht Frei October 27, 2016 \\nThe Je...</td>\n",
       "      <td>FAKE</td>\n",
       "    </tr>\n",
       "    <tr>\n",
       "      <th>2789</th>\n",
       "      <td>The Real Reason Why The Clinton Email Scandal ...</td>\n",
       "      <td>By Jason Easley on Fri, Oct 28th, 2016 at 6:36...</td>\n",
       "      <td>FAKE</td>\n",
       "    </tr>\n",
       "    <tr>\n",
       "      <th>5577</th>\n",
       "      <td>Economic upgrade: Russia receives multiple end...</td>\n",
       "      <td>Thu, 27 Oct 2016 16:35 UTC © UPI.com Successfu...</td>\n",
       "      <td>FAKE</td>\n",
       "    </tr>\n",
       "    <tr>\n",
       "      <th>2064</th>\n",
       "      <td>Can Huckabee Overcome The 'New Car Smell' Of O...</td>\n",
       "      <td>Can Huckabee Overcome The 'New Car Smell' Of O...</td>\n",
       "      <td>REAL</td>\n",
       "    </tr>\n",
       "    <tr>\n",
       "      <th>4577</th>\n",
       "      <td>Hillary Clinton's ties to corporate donors, lo...</td>\n",
       "      <td>Hillary Clinton's ties to large corporations h...</td>\n",
       "      <td>REAL</td>\n",
       "    </tr>\n",
       "    <tr>\n",
       "      <th>5747</th>\n",
       "      <td>Black Trump Supporter: ‘We need somebody that ...</td>\n",
       "      <td>Black Trump Supporter: ‘We need somebody that ...</td>\n",
       "      <td>FAKE</td>\n",
       "    </tr>\n",
       "    <tr>\n",
       "      <th>5401</th>\n",
       "      <td>Think Facebook isn't political? Think again | ...</td>\n",
       "      <td>There’s a conceit that says everything at Face...</td>\n",
       "      <td>REAL</td>\n",
       "    </tr>\n",
       "  </tbody>\n",
       "</table>\n",
       "</div>"
      ],
      "text/plain": [
       "                                                  title  \\\n",
       "4401  Clinton renews vow to 'fast track' immigration...   \n",
       "2290      Is It Safe To Use Expired Prescription Drugs?   \n",
       "3083         How Predictive Are Iowa And New Hampshire?   \n",
       "3244  Trump: I'll Only Lose With 'Cheating,' Asks Su...   \n",
       "1616  Protesting Donald Trump’s Election, Not Wars, ...   \n",
       "2750                  Climate change crusade goes local   \n",
       "2499  Opponents divided on how — or whether — to res...   \n",
       "5829                                  AP fakes the news   \n",
       "2629  A Tear in the Fabric of America’s Political Th...   \n",
       "3578  Ted Cruz launches bid; Some pundits paint him ...   \n",
       "5240  Chelsea Clinton Hired Eric Braverman As CEO Of...   \n",
       "5953  Unbrexit! Parliament must vote on triggering a...   \n",
       "3693  Re: OUCH! Hillary Clinton’s self-unaware lectu...   \n",
       "2715  Refusal to Acknowledge Uniqueness of Holocaust...   \n",
       "2789  The Real Reason Why The Clinton Email Scandal ...   \n",
       "5577  Economic upgrade: Russia receives multiple end...   \n",
       "2064  Can Huckabee Overcome The 'New Car Smell' Of O...   \n",
       "4577  Hillary Clinton's ties to corporate donors, lo...   \n",
       "5747  Black Trump Supporter: ‘We need somebody that ...   \n",
       "5401  Think Facebook isn't political? Think again | ...   \n",
       "\n",
       "                                                   text label  \n",
       "4401  Hillary Clinton announced perhaps her most amb...  REAL  \n",
       "2290  Backdoor Survival October 29, 2016 \\nThe topic...  FAKE  \n",
       "3083  How Predictive Are Iowa And New Hampshire?\\n\\n...  REAL  \n",
       "3244  Trump: I'll Only Lose With 'Cheating,' Asks Su...  REAL  \n",
       "1616  Protests and vigils have erupted in major citi...  REAL  \n",
       "2750  While US leaders remain bogged down in debate ...  REAL  \n",
       "2499  When Friday began, there were 14 states where ...  REAL  \n",
       "5829  *Sent:* Tuesday, August 11, 2015 6:00 PM *To:*...  FAKE  \n",
       "2629  [Graphic: Clinton vs Trump by DonkeyHotey .] P...  FAKE  \n",
       "3578  Before he got to repealing ObamaCare, before h...  REAL  \n",
       "5240  https://twitter.com/eric_braverman 7. On Doug ...  FAKE  \n",
       "5953  Next Prev Swipe left/right Unbrexit! Parliamen...  FAKE  \n",
       "3693  — Tim Carney (@TPCarney) October 27, 2016 \\nUh...  FAKE  \n",
       "2715  Diversity Macht Frei October 27, 2016 \\nThe Je...  FAKE  \n",
       "2789  By Jason Easley on Fri, Oct 28th, 2016 at 6:36...  FAKE  \n",
       "5577  Thu, 27 Oct 2016 16:35 UTC © UPI.com Successfu...  FAKE  \n",
       "2064  Can Huckabee Overcome The 'New Car Smell' Of O...  REAL  \n",
       "4577  Hillary Clinton's ties to large corporations h...  REAL  \n",
       "5747  Black Trump Supporter: ‘We need somebody that ...  FAKE  \n",
       "5401  There’s a conceit that says everything at Face...  REAL  "
      ]
     },
     "execution_count": 8,
     "metadata": {},
     "output_type": "execute_result"
    }
   ],
   "source": [
    "df = df.drop('Unnamed: 0', axis = 1)\n",
    "df.sample(20)"
   ]
  },
  {
   "cell_type": "markdown",
   "id": "6fec2289-16ca-453d-9968-c2a05c868cef",
   "metadata": {},
   "source": [
    "### Printing label column seperately"
   ]
  },
  {
   "cell_type": "code",
   "execution_count": 9,
   "id": "ee5a63c9-6205-463c-bd9a-3211d83c4b3d",
   "metadata": {},
   "outputs": [
    {
     "data": {
      "text/plain": [
       "0    FAKE\n",
       "1    FAKE\n",
       "2    REAL\n",
       "3    FAKE\n",
       "4    REAL\n",
       "Name: label, dtype: object"
      ]
     },
     "execution_count": 9,
     "metadata": {},
     "output_type": "execute_result"
    }
   ],
   "source": [
    "news_type_count = df.label\n",
    "news_type_count.head()"
   ]
  },
  {
   "cell_type": "markdown",
   "id": "e167c0ed-e64f-4c6a-994f-fbf083bfa9b9",
   "metadata": {},
   "source": [
    "### Description"
   ]
  },
  {
   "cell_type": "code",
   "execution_count": 10,
   "id": "98402a03-9bf5-4d7f-b86c-7ff2655f4778",
   "metadata": {},
   "outputs": [
    {
     "data": {
      "text/html": [
       "<div>\n",
       "<style scoped>\n",
       "    .dataframe tbody tr th:only-of-type {\n",
       "        vertical-align: middle;\n",
       "    }\n",
       "\n",
       "    .dataframe tbody tr th {\n",
       "        vertical-align: top;\n",
       "    }\n",
       "\n",
       "    .dataframe thead th {\n",
       "        text-align: right;\n",
       "    }\n",
       "</style>\n",
       "<table border=\"1\" class=\"dataframe\">\n",
       "  <thead>\n",
       "    <tr style=\"text-align: right;\">\n",
       "      <th></th>\n",
       "      <th>title</th>\n",
       "      <th>text</th>\n",
       "      <th>label</th>\n",
       "    </tr>\n",
       "  </thead>\n",
       "  <tbody>\n",
       "    <tr>\n",
       "      <th>count</th>\n",
       "      <td>6335</td>\n",
       "      <td>6335</td>\n",
       "      <td>6335</td>\n",
       "    </tr>\n",
       "    <tr>\n",
       "      <th>unique</th>\n",
       "      <td>6256</td>\n",
       "      <td>6060</td>\n",
       "      <td>2</td>\n",
       "    </tr>\n",
       "    <tr>\n",
       "      <th>top</th>\n",
       "      <td>OnPolitics | 's politics blog</td>\n",
       "      <td>Killing Obama administration rules, dismantlin...</td>\n",
       "      <td>REAL</td>\n",
       "    </tr>\n",
       "    <tr>\n",
       "      <th>freq</th>\n",
       "      <td>5</td>\n",
       "      <td>58</td>\n",
       "      <td>3171</td>\n",
       "    </tr>\n",
       "  </tbody>\n",
       "</table>\n",
       "</div>"
      ],
      "text/plain": [
       "                                title  \\\n",
       "count                            6335   \n",
       "unique                           6256   \n",
       "top     OnPolitics | 's politics blog   \n",
       "freq                                5   \n",
       "\n",
       "                                                     text label  \n",
       "count                                                6335  6335  \n",
       "unique                                               6060     2  \n",
       "top     Killing Obama administration rules, dismantlin...  REAL  \n",
       "freq                                                   58  3171  "
      ]
     },
     "execution_count": 10,
     "metadata": {},
     "output_type": "execute_result"
    }
   ],
   "source": [
    "df.describe()"
   ]
  },
  {
   "cell_type": "markdown",
   "id": "13535a41-9d49-4e62-8bff-2be762ee449e",
   "metadata": {},
   "source": [
    "### Removing unnecessary columns"
   ]
  },
  {
   "cell_type": "code",
   "execution_count": 11,
   "id": "c99d1bae-c8bd-444d-a6a2-cc3b1d97ecf7",
   "metadata": {},
   "outputs": [
    {
     "data": {
      "text/html": [
       "<div>\n",
       "<style scoped>\n",
       "    .dataframe tbody tr th:only-of-type {\n",
       "        vertical-align: middle;\n",
       "    }\n",
       "\n",
       "    .dataframe tbody tr th {\n",
       "        vertical-align: top;\n",
       "    }\n",
       "\n",
       "    .dataframe thead th {\n",
       "        text-align: right;\n",
       "    }\n",
       "</style>\n",
       "<table border=\"1\" class=\"dataframe\">\n",
       "  <thead>\n",
       "    <tr style=\"text-align: right;\">\n",
       "      <th></th>\n",
       "      <th>text</th>\n",
       "      <th>label</th>\n",
       "    </tr>\n",
       "  </thead>\n",
       "  <tbody>\n",
       "    <tr>\n",
       "      <th>727</th>\n",
       "      <td>(((Smithsonian))) Refuses to Include Judge in ...</td>\n",
       "      <td>FAKE</td>\n",
       "    </tr>\n",
       "    <tr>\n",
       "      <th>3911</th>\n",
       "      <td>0 comments Do you think that this Veteran’s ac...</td>\n",
       "      <td>FAKE</td>\n",
       "    </tr>\n",
       "    <tr>\n",
       "      <th>1657</th>\n",
       "      <td>\\nAfter what appeared to be a refusal to conce...</td>\n",
       "      <td>FAKE</td>\n",
       "    </tr>\n",
       "    <tr>\n",
       "      <th>2446</th>\n",
       "      <td>November 7, 2016 ‘We never denied Israel’s rig...</td>\n",
       "      <td>FAKE</td>\n",
       "    </tr>\n",
       "    <tr>\n",
       "      <th>1227</th>\n",
       "      <td>Bill Clinton is a sex-addicted ‘monster’ who...</td>\n",
       "      <td>FAKE</td>\n",
       "    </tr>\n",
       "    <tr>\n",
       "      <th>6077</th>\n",
       "      <td>Posted on October 27, 2016 by Dr. Eowyn \\nHill...</td>\n",
       "      <td>FAKE</td>\n",
       "    </tr>\n",
       "    <tr>\n",
       "      <th>920</th>\n",
       "      <td>The man authorities say killed four Marines in...</td>\n",
       "      <td>REAL</td>\n",
       "    </tr>\n",
       "    <tr>\n",
       "      <th>5609</th>\n",
       "      <td>Keeping an eye on your own energy use is the \"...</td>\n",
       "      <td>REAL</td>\n",
       "    </tr>\n",
       "    <tr>\n",
       "      <th>173</th>\n",
       "      <td>So, that happened: This week, the early stages...</td>\n",
       "      <td>REAL</td>\n",
       "    </tr>\n",
       "    <tr>\n",
       "      <th>5199</th>\n",
       "      <td>As the Washington Post points out, Williams to...</td>\n",
       "      <td>REAL</td>\n",
       "    </tr>\n",
       "    <tr>\n",
       "      <th>1856</th>\n",
       "      <td>Senate Minority Leader Harry Reid (D-Nev.) wil...</td>\n",
       "      <td>REAL</td>\n",
       "    </tr>\n",
       "    <tr>\n",
       "      <th>2358</th>\n",
       "      <td>MI5 Chief Gives First Ever Interview to Press,...</td>\n",
       "      <td>FAKE</td>\n",
       "    </tr>\n",
       "    <tr>\n",
       "      <th>1851</th>\n",
       "      <td></td>\n",
       "      <td>FAKE</td>\n",
       "    </tr>\n",
       "    <tr>\n",
       "      <th>4652</th>\n",
       "      <td>EXCLUSIVE - A $28,500 deposit was made to Syed...</td>\n",
       "      <td>REAL</td>\n",
       "    </tr>\n",
       "    <tr>\n",
       "      <th>3971</th>\n",
       "      <td>Russia suggests joint engineering troops’ dril...</td>\n",
       "      <td>FAKE</td>\n",
       "    </tr>\n",
       "    <tr>\n",
       "      <th>3239</th>\n",
       "      <td>Home / News / Fox News Just Exposed Hillary’s ...</td>\n",
       "      <td>FAKE</td>\n",
       "    </tr>\n",
       "    <tr>\n",
       "      <th>1053</th>\n",
       "      <td>www.youtube.com 0 \\nHypothesis: There are Majo...</td>\n",
       "      <td>FAKE</td>\n",
       "    </tr>\n",
       "    <tr>\n",
       "      <th>2347</th>\n",
       "      <td>Keywords: Acupuncture , baby eczema , cure bab...</td>\n",
       "      <td>FAKE</td>\n",
       "    </tr>\n",
       "    <tr>\n",
       "      <th>2508</th>\n",
       "      <td>We are Gulag Bound / *Resisters' Log* / Elec...</td>\n",
       "      <td>FAKE</td>\n",
       "    </tr>\n",
       "    <tr>\n",
       "      <th>646</th>\n",
       "      <td>Parts Of Patriot Act Expire, Even As Senate Mo...</td>\n",
       "      <td>REAL</td>\n",
       "    </tr>\n",
       "  </tbody>\n",
       "</table>\n",
       "</div>"
      ],
      "text/plain": [
       "                                                   text label\n",
       "727   (((Smithsonian))) Refuses to Include Judge in ...  FAKE\n",
       "3911  0 comments Do you think that this Veteran’s ac...  FAKE\n",
       "1657  \\nAfter what appeared to be a refusal to conce...  FAKE\n",
       "2446  November 7, 2016 ‘We never denied Israel’s rig...  FAKE\n",
       "1227    Bill Clinton is a sex-addicted ‘monster’ who...  FAKE\n",
       "6077  Posted on October 27, 2016 by Dr. Eowyn \\nHill...  FAKE\n",
       "920   The man authorities say killed four Marines in...  REAL\n",
       "5609  Keeping an eye on your own energy use is the \"...  REAL\n",
       "173   So, that happened: This week, the early stages...  REAL\n",
       "5199  As the Washington Post points out, Williams to...  REAL\n",
       "1856  Senate Minority Leader Harry Reid (D-Nev.) wil...  REAL\n",
       "2358  MI5 Chief Gives First Ever Interview to Press,...  FAKE\n",
       "1851                                                     FAKE\n",
       "4652  EXCLUSIVE - A $28,500 deposit was made to Syed...  REAL\n",
       "3971  Russia suggests joint engineering troops’ dril...  FAKE\n",
       "3239  Home / News / Fox News Just Exposed Hillary’s ...  FAKE\n",
       "1053  www.youtube.com 0 \\nHypothesis: There are Majo...  FAKE\n",
       "2347  Keywords: Acupuncture , baby eczema , cure bab...  FAKE\n",
       "2508    We are Gulag Bound / *Resisters' Log* / Elec...  FAKE\n",
       "646   Parts Of Patriot Act Expire, Even As Senate Mo...  REAL"
      ]
     },
     "execution_count": 11,
     "metadata": {},
     "output_type": "execute_result"
    }
   ],
   "source": [
    "df = df.drop('title', axis = 1)\n",
    "df.sample(20)"
   ]
  },
  {
   "cell_type": "markdown",
   "id": "f3d97356-8680-4bfd-a898-7c9f1da8240d",
   "metadata": {},
   "source": [
    "## **Data Visualization**"
   ]
  },
  {
   "cell_type": "code",
   "execution_count": 12,
   "id": "140b6084-d876-48c7-b062-41960057bb46",
   "metadata": {},
   "outputs": [],
   "source": [
    "import matplotlib.pyplot as plt\n",
    "import seaborn as sns\n",
    "import warnings\n",
    "warnings.filterwarnings('ignore')"
   ]
  },
  {
   "cell_type": "markdown",
   "id": "8e0bbc90-e719-4cda-adc7-0a1f231fad04",
   "metadata": {},
   "source": [
    "### Plot pie chart"
   ]
  },
  {
   "cell_type": "code",
   "execution_count": 13,
   "id": "80886b9a-ec11-4680-b64e-ca3817e3f09b",
   "metadata": {},
   "outputs": [
    {
     "data": {
      "image/png": "[encoded data removed]",
      "text/plain": [
       "<Figure size 640x480 with 1 Axes>"
      ]
     },
     "metadata": {},
     "output_type": "display_data"
    }
   ],
   "source": [
    "plt.pie(df['label'].value_counts(),labels=['Real','Fake'],colors=['green','red'],autopct='%0.5f')\n",
    "plt.show()"
   ]
  },
  {
   "cell_type": "markdown",
   "id": "80668e84-aa19-4988-90ac-bc90adf5965f",
   "metadata": {},
   "source": [
    "#### *Data is well distributed*"
   ]
  },
  {
   "cell_type": "markdown",
   "id": "b3c05eda-02e2-4927-9d16-19991d0cbf3c",
   "metadata": {},
   "source": [
    "### Function to change texts to simple ways"
   ]
  },
  {
   "cell_type": "code",
   "execution_count": 14,
   "id": "ebde8dd9-b128-4828-821f-a168b8cf735c",
   "metadata": {},
   "outputs": [],
   "source": [
    "import re\n",
    "\n",
    "def convert(text):\n",
    "    text = text.lower()\n",
    "    text = re.sub(r'https?://S+|www\\.\\S+' , '' , text)\n",
    "    text = re.sub('\\n' , '' , text)\n",
    "    text = re.sub('\\[.*?\\]', '', text)\n",
    "    words = []\n",
    "    for i in text:\n",
    "        if i not in string.punctuation:\n",
    "            words.append(i)\n",
    "    return ''.join(words)"
   ]
  },
  {
   "cell_type": "code",
   "execution_count": 15,
   "id": "59dada1f-cefc-406d-bf83-9aa1bdabe71f",
   "metadata": {},
   "outputs": [
    {
     "data": {
      "text/html": [
       "<div>\n",
       "<style scoped>\n",
       "    .dataframe tbody tr th:only-of-type {\n",
       "        vertical-align: middle;\n",
       "    }\n",
       "\n",
       "    .dataframe tbody tr th {\n",
       "        vertical-align: top;\n",
       "    }\n",
       "\n",
       "    .dataframe thead th {\n",
       "        text-align: right;\n",
       "    }\n",
       "</style>\n",
       "<table border=\"1\" class=\"dataframe\">\n",
       "  <thead>\n",
       "    <tr style=\"text-align: right;\">\n",
       "      <th></th>\n",
       "      <th>text</th>\n",
       "      <th>label</th>\n",
       "    </tr>\n",
       "  </thead>\n",
       "  <tbody>\n",
       "    <tr>\n",
       "      <th>0</th>\n",
       "      <td>daniel greenfield a shillman journalism fellow...</td>\n",
       "      <td>FAKE</td>\n",
       "    </tr>\n",
       "    <tr>\n",
       "      <th>1</th>\n",
       "      <td>google pinterest digg linkedin reddit stumbleu...</td>\n",
       "      <td>FAKE</td>\n",
       "    </tr>\n",
       "    <tr>\n",
       "      <th>2</th>\n",
       "      <td>us secretary of state john f kerry said monday...</td>\n",
       "      <td>REAL</td>\n",
       "    </tr>\n",
       "    <tr>\n",
       "      <th>3</th>\n",
       "      <td>— kaydee king kaydeeking november 9 2016 the l...</td>\n",
       "      <td>FAKE</td>\n",
       "    </tr>\n",
       "    <tr>\n",
       "      <th>4</th>\n",
       "      <td>its primary day in new york and frontrunners h...</td>\n",
       "      <td>REAL</td>\n",
       "    </tr>\n",
       "    <tr>\n",
       "      <th>...</th>\n",
       "      <td>...</td>\n",
       "      <td>...</td>\n",
       "    </tr>\n",
       "    <tr>\n",
       "      <th>6330</th>\n",
       "      <td>the state department told the republican natio...</td>\n",
       "      <td>REAL</td>\n",
       "    </tr>\n",
       "    <tr>\n",
       "      <th>6331</th>\n",
       "      <td>the ‘p’ in pbs should stand for ‘plutocratic’ ...</td>\n",
       "      <td>FAKE</td>\n",
       "    </tr>\n",
       "    <tr>\n",
       "      <th>6332</th>\n",
       "      <td>antitrump protesters are tools of the oligarc...</td>\n",
       "      <td>FAKE</td>\n",
       "    </tr>\n",
       "    <tr>\n",
       "      <th>6333</th>\n",
       "      <td>addis ababa ethiopia —president obama convened...</td>\n",
       "      <td>REAL</td>\n",
       "    </tr>\n",
       "    <tr>\n",
       "      <th>6334</th>\n",
       "      <td>jeb bush is suddenly attacking trump heres why...</td>\n",
       "      <td>REAL</td>\n",
       "    </tr>\n",
       "  </tbody>\n",
       "</table>\n",
       "<p>6335 rows × 2 columns</p>\n",
       "</div>"
      ],
      "text/plain": [
       "                                                   text label\n",
       "0     daniel greenfield a shillman journalism fellow...  FAKE\n",
       "1     google pinterest digg linkedin reddit stumbleu...  FAKE\n",
       "2     us secretary of state john f kerry said monday...  REAL\n",
       "3     — kaydee king kaydeeking november 9 2016 the l...  FAKE\n",
       "4     its primary day in new york and frontrunners h...  REAL\n",
       "...                                                 ...   ...\n",
       "6330  the state department told the republican natio...  REAL\n",
       "6331  the ‘p’ in pbs should stand for ‘plutocratic’ ...  FAKE\n",
       "6332   antitrump protesters are tools of the oligarc...  FAKE\n",
       "6333  addis ababa ethiopia —president obama convened...  REAL\n",
       "6334  jeb bush is suddenly attacking trump heres why...  REAL\n",
       "\n",
       "[6335 rows x 2 columns]"
      ]
     },
     "execution_count": 15,
     "metadata": {},
     "output_type": "execute_result"
    }
   ],
   "source": [
    "import string\n",
    "\n",
    "df[\"text\"] = df[\"text\"].apply(convert)\n",
    "df"
   ]
  },
  {
   "cell_type": "markdown",
   "id": "9233279c-52e7-445a-8d92-82692ba2b5fa",
   "metadata": {},
   "source": [
    "#### This function removes all special characters and unwanted words from df"
   ]
  },
  {
   "cell_type": "markdown",
   "id": "ab9a66e2-ab14-4496-bd4e-ea1a23cc32af",
   "metadata": {},
   "source": [
    "## **Model Fitting**"
   ]
  },
  {
   "cell_type": "code",
   "execution_count": 16,
   "id": "84ea32e8-8f59-4491-b0dd-0b9448983591",
   "metadata": {},
   "outputs": [
    {
     "data": {
      "text/html": [
       "<div>\n",
       "<style scoped>\n",
       "    .dataframe tbody tr th:only-of-type {\n",
       "        vertical-align: middle;\n",
       "    }\n",
       "\n",
       "    .dataframe tbody tr th {\n",
       "        vertical-align: top;\n",
       "    }\n",
       "\n",
       "    .dataframe thead th {\n",
       "        text-align: right;\n",
       "    }\n",
       "</style>\n",
       "<table border=\"1\" class=\"dataframe\">\n",
       "  <thead>\n",
       "    <tr style=\"text-align: right;\">\n",
       "      <th></th>\n",
       "      <th>text</th>\n",
       "      <th>label</th>\n",
       "    </tr>\n",
       "  </thead>\n",
       "  <tbody>\n",
       "    <tr>\n",
       "      <th>611</th>\n",
       "      <td>behind the headlines  conspiracies coverups an...</td>\n",
       "      <td>0</td>\n",
       "    </tr>\n",
       "    <tr>\n",
       "      <th>1935</th>\n",
       "      <td>get visible advertise here find out more react...</td>\n",
       "      <td>0</td>\n",
       "    </tr>\n",
       "    <tr>\n",
       "      <th>5091</th>\n",
       "      <td>tweet image via intodayin just as the indian e...</td>\n",
       "      <td>0</td>\n",
       "    </tr>\n",
       "    <tr>\n",
       "      <th>1576</th>\n",
       "      <td>philadelphia — charging that donald trump “wan...</td>\n",
       "      <td>1</td>\n",
       "    </tr>\n",
       "    <tr>\n",
       "      <th>997</th>\n",
       "      <td>shock video  hillary needs help climbing one s...</td>\n",
       "      <td>0</td>\n",
       "    </tr>\n",
       "    <tr>\n",
       "      <th>1279</th>\n",
       "      <td>presidents often turn more moderate to make ga...</td>\n",
       "      <td>1</td>\n",
       "    </tr>\n",
       "    <tr>\n",
       "      <th>3294</th>\n",
       "      <td>the economic collapse – by michael snyder just...</td>\n",
       "      <td>0</td>\n",
       "    </tr>\n",
       "    <tr>\n",
       "      <th>1984</th>\n",
       "      <td>highfat ketogenic diet for weight loss by paul...</td>\n",
       "      <td>0</td>\n",
       "    </tr>\n",
       "    <tr>\n",
       "      <th>2803</th>\n",
       "      <td>prolifers have taken to social media to use pl...</td>\n",
       "      <td>1</td>\n",
       "    </tr>\n",
       "    <tr>\n",
       "      <th>2494</th>\n",
       "      <td>puerto rico defaults on a 422million debt paym...</td>\n",
       "      <td>1</td>\n",
       "    </tr>\n",
       "  </tbody>\n",
       "</table>\n",
       "</div>"
      ],
      "text/plain": [
       "                                                   text  label\n",
       "611   behind the headlines  conspiracies coverups an...      0\n",
       "1935  get visible advertise here find out more react...      0\n",
       "5091  tweet image via intodayin just as the indian e...      0\n",
       "1576  philadelphia — charging that donald trump “wan...      1\n",
       "997   shock video  hillary needs help climbing one s...      0\n",
       "1279  presidents often turn more moderate to make ga...      1\n",
       "3294  the economic collapse – by michael snyder just...      0\n",
       "1984  highfat ketogenic diet for weight loss by paul...      0\n",
       "2803  prolifers have taken to social media to use pl...      1\n",
       "2494  puerto rico defaults on a 422million debt paym...      1"
      ]
     },
     "execution_count": 16,
     "metadata": {},
     "output_type": "execute_result"
    }
   ],
   "source": [
    "from sklearn.preprocessing import LabelEncoder\n",
    "le=LabelEncoder()\n",
    "df['label']=le.fit_transform(df['label'])\n",
    "df.sample(10)"
   ]
  },
  {
   "cell_type": "markdown",
   "id": "57cf5682-0bfa-4575-9491-ca5b4ce49ba9",
   "metadata": {},
   "source": [
    "#### Here, 1 is used to denote Fake news and 0 for Real news"
   ]
  },
  {
   "cell_type": "code",
   "execution_count": 17,
   "id": "202ab2fb-9df9-433c-b557-a79c592664a0",
   "metadata": {},
   "outputs": [],
   "source": [
    "x=df['text']\n",
    "y=df['label']"
   ]
  },
  {
   "cell_type": "markdown",
   "id": "2e316b75-4300-46d1-b8df-d7631902056c",
   "metadata": {},
   "source": [
    "### Train_Test_Split"
   ]
  },
  {
   "cell_type": "markdown",
   "id": "a0117c88-e7cd-40e8-b764-23417a48d4cc",
   "metadata": {},
   "source": [
    "#### We split the data into train and test sets to work on."
   ]
  },
  {
   "cell_type": "code",
   "execution_count": 18,
   "id": "e3d4faa3-c55e-4a90-baef-e27f1fd79db2",
   "metadata": {},
   "outputs": [],
   "source": [
    "from sklearn.model_selection import train_test_split\n",
    "x_train,x_test,y_train,y_test=train_test_split(df['text'],df['label'], test_size=0.2, random_state=7)"
   ]
  },
  {
   "cell_type": "code",
   "execution_count": 19,
   "id": "25ac7ac1-bb50-42d4-8f1d-2b088c925b18",
   "metadata": {},
   "outputs": [
    {
     "data": {
      "text/plain": [
       "6237    the head of a leading survivalist group has ma...\n",
       "3722    ‹ › arnaldo rodgers is a trained and educated ...\n",
       "5774    patty sanchez 51 used to eat 13000 calories a ...\n",
       "336     but benjamin netanyahu’s reelection was regard...\n",
       "3622    john kasich was killing it with these iowa vot...\n",
       "                              ...                        \n",
       "5699                                                     \n",
       "2550    it’s not that americans won’t elect wealthy pr...\n",
       "537     anyone writing sentences like ‘nevertheless fu...\n",
       "1220    more catholics are in congress than ever befor...\n",
       "4271    it was hosted by cnn and the presentation was ...\n",
       "Name: text, Length: 5068, dtype: object"
      ]
     },
     "execution_count": 19,
     "metadata": {},
     "output_type": "execute_result"
    }
   ],
   "source": [
    "x_train"
   ]
  },
  {
   "cell_type": "markdown",
   "id": "28a7e7a5-d343-4f70-829c-d191c911e7e2",
   "metadata": {},
   "source": [
    "### Vectorization"
   ]
  },
  {
   "cell_type": "markdown",
   "id": "2b5168be-4e3a-4f5f-a7e9-9cf19d83eb75",
   "metadata": {},
   "source": [
    "#### Vectorization is a step in feature extraction. The idea is to convert text to numerical vectors to get distinct features out of the text for the model to train on. This is done to speed up the processing time."
   ]
  },
  {
   "cell_type": "code",
   "execution_count": 20,
   "id": "a868c3ae-4ea3-4a90-aa0c-e6e235771c12",
   "metadata": {},
   "outputs": [],
   "source": [
    "from sklearn.feature_extraction.text import TfidfVectorizer\n",
    "\n",
    "vectorization = TfidfVectorizer()\n",
    "x_train= vectorization.fit_transform(x_train)\n",
    "x_test = vectorization.transform(x_test)"
   ]
  },
  {
   "cell_type": "code",
   "execution_count": 22,
   "id": "38fcd154-f7ac-414c-8c0f-92a39fea5f8b",
   "metadata": {},
   "outputs": [],
   "source": [
    "from sklearn.metrics import classification_report\n",
    "from sklearn.linear_model import LogisticRegression\n",
    "from sklearn.metrics import accuracy_score\n",
    "from sklearn.tree import DecisionTreeClassifier\n",
    "from sklearn.ensemble import GradientBoostingClassifier\n",
    "from sklearn.ensemble import RandomForestClassifier"
   ]
  },
  {
   "cell_type": "markdown",
   "id": "c14c408a-47a1-4361-8d91-f4b633679083",
   "metadata": {},
   "source": [
    "## **Logistic Regression**"
   ]
  },
  {
   "cell_type": "code",
   "execution_count": 23,
   "id": "7ca3e08f-4573-4c0f-9355-478c1224abe4",
   "metadata": {},
   "outputs": [
    {
     "name": "stdout",
     "output_type": "stream",
     "text": [
      "0.9187056037884768\n",
      "              precision    recall  f1-score   support\n",
      "\n",
      "           0       0.91      0.93      0.92       638\n",
      "           1       0.93      0.90      0.92       629\n",
      "\n",
      "    accuracy                           0.92      1267\n",
      "   macro avg       0.92      0.92      0.92      1267\n",
      "weighted avg       0.92      0.92      0.92      1267\n",
      "\n"
     ]
    }
   ],
   "source": [
    "LR = LogisticRegression()\n",
    "LR.fit(x_train,y_train)\n",
    "pred_LR = LR.predict(x_test)\n",
    "print(accuracy_score(y_test,pred_LR))\n",
    "print(classification_report(y_test,pred_LR))"
   ]
  },
  {
   "cell_type": "markdown",
   "id": "a1934b6a-7469-4513-bd1a-94f1b6427406",
   "metadata": {},
   "source": [
    "## **Decision Tree Classifier**"
   ]
  },
  {
   "cell_type": "code",
   "execution_count": 24,
   "id": "2f10a4df-2e9f-4e2c-ab3e-e72731d12429",
   "metadata": {},
   "outputs": [
    {
     "name": "stdout",
     "output_type": "stream",
     "text": [
      "0.8121546961325967\n",
      "              precision    recall  f1-score   support\n",
      "\n",
      "           0       0.81      0.81      0.81       638\n",
      "           1       0.81      0.81      0.81       629\n",
      "\n",
      "    accuracy                           0.81      1267\n",
      "   macro avg       0.81      0.81      0.81      1267\n",
      "weighted avg       0.81      0.81      0.81      1267\n",
      "\n"
     ]
    }
   ],
   "source": [
    "DT = DecisionTreeClassifier()\n",
    "DT.fit(x_train,y_train)\n",
    "pred_DT = DT.predict(x_test)\n",
    "print(accuracy_score(y_test,pred_DT))\n",
    "print(classification_report(y_test,pred_DT))"
   ]
  },
  {
   "cell_type": "markdown",
   "id": "92b3c06b-5ebe-4ce6-ae1a-1084369bd5ea",
   "metadata": {},
   "source": [
    "## **Gradient Boosting Classifier**"
   ]
  },
  {
   "cell_type": "code",
   "execution_count": 25,
   "id": "1afa1fa4-4445-4bc9-9267-d06e51ef84f8",
   "metadata": {},
   "outputs": [
    {
     "name": "stdout",
     "output_type": "stream",
     "text": [
      "0.8958168902920284\n",
      "              precision    recall  f1-score   support\n",
      "\n",
      "           0       0.90      0.89      0.90       638\n",
      "           1       0.89      0.90      0.90       629\n",
      "\n",
      "    accuracy                           0.90      1267\n",
      "   macro avg       0.90      0.90      0.90      1267\n",
      "weighted avg       0.90      0.90      0.90      1267\n",
      "\n"
     ]
    }
   ],
   "source": [
    "GB = GradientBoostingClassifier()\n",
    "GB.fit(x_train,y_train)\n",
    "pred_GB = GB.predict(x_test)\n",
    "print(accuracy_score(y_test,pred_GB))\n",
    "print(classification_report(y_test,pred_GB))"
   ]
  },
  {
   "cell_type": "markdown",
   "id": "3fa1a868-95f7-49d3-bf90-a4ca02d5684a",
   "metadata": {},
   "source": [
    "## **Random Forest Classifier**"
   ]
  },
  {
   "cell_type": "code",
   "execution_count": 26,
   "id": "8dd75f6b-67f1-423e-ac4f-64fd601a73e2",
   "metadata": {},
   "outputs": [
    {
     "name": "stdout",
     "output_type": "stream",
     "text": [
      "0.8887134964483031\n",
      "              precision    recall  f1-score   support\n",
      "\n",
      "           0       0.87      0.91      0.89       638\n",
      "           1       0.91      0.87      0.89       629\n",
      "\n",
      "    accuracy                           0.89      1267\n",
      "   macro avg       0.89      0.89      0.89      1267\n",
      "weighted avg       0.89      0.89      0.89      1267\n",
      "\n"
     ]
    }
   ],
   "source": [
    "RF = RandomForestClassifier()\n",
    "RF.fit(x_train,y_train)\n",
    "pred_RF = RF.predict(x_test)\n",
    "print(accuracy_score(y_test,pred_RF))\n",
    "print(classification_report(y_test,pred_RF))"
   ]
  },
  {
   "cell_type": "markdown",
   "id": "6256de73-aeac-4c7d-a1b3-523fc97af0c6",
   "metadata": {},
   "source": [
    "### Testing"
   ]
  },
  {
   "cell_type": "code",
   "execution_count": 30,
   "id": "1ec79def-b944-4ffc-9599-04a88e94d7d9",
   "metadata": {},
   "outputs": [],
   "source": [
    "def output_lable(n):\n",
    "    if n == 0:\n",
    "        return \"Fake News\"\n",
    "    elif n == 1:\n",
    "        return \"True News\"\n",
    "def test(news):\n",
    "    testing_news = {\"text\":[news]}\n",
    "    new_def_test= pd.DataFrame (testing_news)\n",
    "    new_def_test[\"text\"] = new_def_test[\"text\"].apply(convert)\n",
    "    new_x_test= new_def_test[\"text\"]\n",
    "    new_x_test = vectorization.transform(new_x_test)\n",
    "    pred_LR = LR.predict(new_x_test)\n",
    "    pred_DT = DT.predict(new_x_test)\n",
    "    pred_GB = GB.predict(new_x_test)\n",
    "    pred_RF = RF.predict(new_x_test)\n",
    "    return print(\"\\n\\nLR Prediction: {} \\nDT Prediction: {} \\nGBC Prediction: {} \\nRFC Prediction: {}\".format(output_lable(pred_LR),\n",
    "                                                                                                              output_lable(pred_DT),\n",
    "                                                                                                              output_lable(pred_GB),\n",
    "                                                                                                              output_lable(pred_RF)))"
   ]
  },
  {
   "cell_type": "markdown",
   "id": "d271c13a-dde7-4ceb-86bc-0fe0f4c540c3",
   "metadata": {},
   "source": [
    "## **Predictions**"
   ]
  },
  {
   "cell_type": "code",
   "execution_count": 32,
   "id": "a82dd309-1238-4a50-bb28-2168d083912b",
   "metadata": {},
   "outputs": [
    {
     "name": "stdin",
     "output_type": "stream",
     "text": [
      "Enter your news: \"While some Justice Department investigations are adversarial, a new model of collaborative reform is surprising police in some cities, asÂ they find themselves included as part of the solution. Searching for a framework ... [to] heal, Baltimore Mayor Stephanie Rawlings-Blake put in a 911 call to the US Department of Justice to ask for a civil rights investigation into the Baltimore Police Departmentâ€™s beat cop tactics. Her call, not even a week after a local prosecutor charged six police officers with crimes including murder for their alleged role in the death of Freddie Gray, is part of a broader trend of collaborative reform between Washington and local jurisdictions. What's striking about such investigations is that they don't just slam the police, but also aim to help officers stay safe and protect citizens, as well as show that they are part of the solution. In fact, following a Baltimore Sun series on police abuses in the city last year, Police Commissioner Anthony Batts approached the Justice Department to conduct a collaborative review, which had been under way the day Mr. Gray died while in police custody. Some DOJ investigations are adversarial, as police bristle at court orders and federal monitors. But a federal investigation into whether Baltimore cops routinely violate peopleâ€™s civil rights is likely to mirror similar probes in Las Vegas and Philadelphia, where police chiefs have been able to use federal findings to gain leverage with elected officials and also use facts to rebut claims by police officers that theyâ€™re doing nothing wrong, says Sam Walker, a criminologist at the University of Nebraska at Omaha. To be sure, Mr. Walker says, itâ€™s â€œtoo early to tellâ€ whether such interventions can bring the kind of fundamental reforms that Mayor Rawlings-Blake is hoping to find in the aftermath of Grayâ€™s death and injuries to nearly 100 cops during violent riots. But there is growing evidence that such collaborative efforts can help communities grapple with deep tensions between police and neighborhoods and build trust around common goals like respect, dignity, and sanctity of life. After Las Vegas police shot a record 25 people in 2010, the city began its own reforms and asked the Department of Justice for help a year later. In 2011, the DOJ began the new collaboration program, delving deep into practices, training procedures, and policies to root out where officers were going wrong and where policies failed the people. As of 2012, the Las Vegas department had completed dozens of difficult reforms, including rewriting its use-of-deadly-force policy to include a reference to officers acknowledging the â€œsanctity of human lifeâ€ as they make critical split-second decisions. The department added so-called reality-based training to give officers more options than quick deployment of deadly force as they interacted with drugged, drunk, or mentally ill citizens. Since then, the number of officer-involved shootings in Las Vegas has stayed below historical averages, year to year. In March, the Justice Department reported back on practices of the Philadelphia Police Department, which had seen a stretch of years in which police killed a person nearly every week, many of them unarmed. The DOJ team, which was made up of policing experts and not prosecutors, released a string of findings that pointed to problems in both policy and training. Surprisingly to some, many complaints came from officers themselves. Among the findings were complaints from officers that they were not properly trained to deal with violent suspects. The training needed to be less staged and more reality-based, officers said, including allowing trainees to grapple with each other to learn tactics. â€œInterview participants generally thought that the defensive tactics training offered at the academy focused too much on legal liability and not enough on teaching practical and realistic methods for surviving a physical encounter,â€ the DOJ report stated. â€œThey did not believe that [training] sufficiently prepared them for a physical encounter.â€ Aside from giving leaders hard facts to work with, such reports can also help defend police officers. Even though many police shootings have a racial backdrop, the Justice Department found that Philadelphia police did not have a problem with racial stereotyping. In fact, unarmed white males were more likely to be shot and killed by Philadelphia police than unarmed black males. â€œI want to express regrets for all who have been shot in Philadelphia, civilians or police officers.... Every life is precious in this city and this country, so we need to maintain this level of focus,Philadelphia Mayor Michael Nutter said in March. We're one big city. Everyone wants to be safe. Citizens want to be safe. Police officers want to be safe. The Justice Department has conducted 19 civil rights investigations since 2000, stepping up the efforts in the Obama era, with five police departments coming under federal monitoring in 2012 alone. Some of those investigations have been scathing, including a report in March that documented abuses by the Ferguson (Mo.) Police Department that helped fuel protests in the wake of Michaelâ€™s Brown death last August, at the hands of a police officer. So far, Attorney General Loretta Lynch has not replied to the Baltimore mayorâ€™s request for a separate civil rights abuse probe. But the request makes clear that the cityâ€™s police probably have problems that go beyond the treatment of Gray. Since 2011, the city has settled more than 100 lawsuits equaling nearly $6 million in cases where people were bruised and battered by officers, only to have trumped-up charges later dropped by a judge. True, institutional change can be difficult. After the Baltimore Police Department promised the courts in 2010 it would curb the large percentage of false arrests in the city by offering better training, the department dragged its feet, the American Civil Liberties Union has alleged. The issue has reared up again in the Gray case, since prosecutor Marilyn Mosby has charged that officers falsely arrested Gray for carrying a legal knife. But so far in Philadelphia and Las Vegas, one key to success has been the efforts to engage police officers in the process by showing them that they are part of the solution, and that the collaboration isn't about outsiders second-guessing their actions. In Philadelphia, Commissioner Charles Ramsey sent every officer a link to the Las Vegas report, so they could see for themselves that it was more an attempt to help officers stay safe and protect citizens than blaming them for their actions. Cops are always leery of something, Mr. Ramsey told the Baltimore Sun. We did as much as we could to alleviate any concerns and fears.\"\n"
     ]
    },
    {
     "name": "stdout",
     "output_type": "stream",
     "text": [
      "\n",
      "\n",
      "LR Prediction: True News \n",
      "DT Prediction: True News \n",
      "GBC Prediction: True News \n",
      "RFC Prediction: True News\n"
     ]
    }
   ],
   "source": [
    "news = str(input('Enter your news:'))\n",
    "test(news)"
   ]
  },
  {
   "cell_type": "code",
   "execution_count": 33,
   "id": "bf1da78f-073d-493a-b9d0-b1f1247dd8fb",
   "metadata": {},
   "outputs": [
    {
     "name": "stdin",
     "output_type": "stream",
     "text": [
      "Enter your news: \"Just weeks ago, it did not seem that Marco Rubio needed to lose any sleep over Jeb Bush. After all, Rubio was seen as the darling presidential candidate of the GOP establishment because of a string of impressive debate performances and a strong Iowa caucus showing. But after a disastrous GOP debate where Chris Christie essentially left the normally cool and eloquent Rubio stammering, followed by a fifth-place finish in the New Hampshire primary, the South Carolina vote on Saturday has become critical for the Florida lawmaker. He must persuade people who had been ready to ditch Bush for Rubio after New Hampshire, but who got jittery after he did worse than expected, that he has recovered and is the best non-extreme Republican option for the nomination, according to the New York Times. A Rubio supporter said the senator entered the ill-fated debate with indications from Bush backers that they would be ready to switch loyalty after the New Hampshire primary, which had been expected to seal Rubio as the best bet for the GOP establishment. But after Christie successfully repeatedly attacked Rubio in the debate, the supporter told the Times, â€œthose calls stopped.â€ Another unidentified supporter added: â€œTotally frozen.â€ Friends, advisers and backers of Rubio says if he should finish behind Bush, it would spell real trouble for the junior senator, according to the Times. To be sure, thus far South Carolina voter polls indicate that Donald Trump will win, perhaps with a double-digit margin over whoever comes in second place. Rubioâ€™s campaign has taken the blame for the fallout after the debate that hurt their candidate, saying they had made a tactical error in advising him not to hit back hard at Christie because it wouldnâ€™t pay off. A weaker-than-expected showing by Sen. Ted Cruz, who is pursuing conservative and evangelical voters, is seen as a potential boost to Rubio, a one-time Tea Party favorite who could pick up anti-Trump conservatives, many experts say. Basically, many believe Rubio cannot come in lower than third, certainly not behind Bush, who doggedly has been trying to wear the establishment mantle and at the start of the election cycle seemed like the inevitable moderate GOP front-runner. All told, the stakes are high in South Carolina, where about a third of voters remain undecided. â€œWhen you see what happens in South Carolina,â€ Tim Scott, a Republican senator in South Carolina told the Times, â€œit will carry momentum into Nevada, and then into Super Tuesday.â€ Like us on Facebook\"\n"
     ]
    },
    {
     "name": "stdout",
     "output_type": "stream",
     "text": [
      "\n",
      "\n",
      "LR Prediction: True News \n",
      "DT Prediction: True News \n",
      "GBC Prediction: True News \n",
      "RFC Prediction: True News\n"
     ]
    }
   ],
   "source": [
    "news = str(input('Enter your news:'))\n",
    "test(news)"
   ]
  },
  {
   "cell_type": "code",
   "execution_count": 31,
   "id": "75a8efc8-399d-4db5-b877-9e3724872a28",
   "metadata": {},
   "outputs": [
    {
     "name": "stdin",
     "output_type": "stream",
     "text": [
      "Enter your news: \"With Trump's call for a temporary ban on Muslims entering the United States, several of the nation's most esteemed journalists and influential news outlets have set aside traditional notions of balance and given themselves license to label the Republican front-runner a liar, a demagogue, a racist and worse.\"\n"
     ]
    },
    {
     "name": "stdout",
     "output_type": "stream",
     "text": [
      "\n",
      "\n",
      "LR Prediction: Fake News \n",
      "DT Prediction: True News \n",
      "GBC Prediction: Fake News \n",
      "RFC Prediction: Fake News\n"
     ]
    }
   ],
   "source": [
    "news = str(input('Enter your news:'))\n",
    "test(news)"
   ]
  }
 ],
 "metadata": {
  "kernelspec": {
   "display_name": "Python 3 (ipykernel)",
   "language": "python",
   "name": "python3"
  },
  "language_info": {
   "codemirror_mode": {
    "name": "ipython",
    "version": 3
   },
   "file_extension": ".py",
   "mimetype": "text/x-python",
   "name": "python",
   "nbconvert_exporter": "python",
   "pygments_lexer": "ipython3",
   "version": "3.11.4"
  }
 },
 "nbformat": 4,
 "nbformat_minor": 5
}
